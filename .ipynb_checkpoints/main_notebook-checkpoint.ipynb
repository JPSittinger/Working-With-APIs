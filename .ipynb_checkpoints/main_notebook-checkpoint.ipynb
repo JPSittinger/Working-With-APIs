{
 "cells": [
  {
   "cell_type": "markdown",
   "metadata": {},
   "source": [
    "# Use this notbook for your 3 choices of APIs"
   ]
  },
  {
   "cell_type": "markdown",
   "metadata": {},
   "source": [
    "### Querying wikipedia API with "
   ]
  },
  {
   "cell_type": "markdown",
   "metadata": {},
   "source": [
    "Query a random page of wikipedia, check for last revision.\n",
    "Could be stored in a dataframe for a specific wikipedia page or could be used to generate the average revision difference from now to the last revision of a certain set of random wikipedia pages."
   ]
  },
  {
   "cell_type": "code",
   "execution_count": 10,
   "metadata": {},
   "outputs": [],
   "source": [
    "import pandas as pd\n",
    "import requests\n",
    "\n",
    "res = requests.get('https://en.wikipedia.org/api/rest_v1/page/title/Data_analysis')"
   ]
  },
  {
   "cell_type": "code",
   "execution_count": 11,
   "metadata": {},
   "outputs": [
    {
     "data": {
      "text/plain": [
       "{'items': [{'title': 'Data_analysis',\n",
       "   'page_id': 2720954,\n",
       "   'rev': 1123952441,\n",
       "   'tid': '09398c20-90ff-11ed-a353-f566b18679da',\n",
       "   'namespace': 0,\n",
       "   'user_id': 0,\n",
       "   'user_text': '75.135.86.62',\n",
       "   'timestamp': '2022-11-26T16:09:33Z',\n",
       "   'comment': '/* Modeling and algorithms */',\n",
       "   'tags': ['wikieditor'],\n",
       "   'restrictions': [],\n",
       "   'page_language': 'en',\n",
       "   'redirect': False}]}"
      ]
     },
     "execution_count": 11,
     "metadata": {},
     "output_type": "execute_result"
    }
   ],
   "source": [
    "data = res.json()\n",
    "data"
   ]
  },
  {
   "cell_type": "code",
   "execution_count": 12,
   "metadata": {},
   "outputs": [],
   "source": [
    "import pandas as pd\n",
    "import requests\n",
    "import json\n",
    "from datetime import datetime\n",
    "import time\n",
    "\n",
    "# Wikipedia API endpoint\n",
    "url = \"https://en.wikipedia.org/w/api.php\"\n",
    "\n",
    "# Random wikipedia page\n",
    "params = {\n",
    "    \"action\": \"query\",\n",
    "    \"format\": \"json\",\n",
    "    \"list\": \"random\",\n",
    "    \"rnnamespace\": 0,\n",
    "    \"rnlimit\": 1,\n",
    "}\n",
    "\n",
    "# API request\n",
    "response = requests.get(url, params=params)\n",
    "data = response.json()"
   ]
  },
  {
   "cell_type": "code",
   "execution_count": 13,
   "metadata": {},
   "outputs": [
    {
     "data": {
      "text/plain": [
       "{'batchcomplete': '',\n",
       " 'continue': {'rncontinue': '0.835620185443|0.835620211027|72248951|0',\n",
       "  'continue': '-||'},\n",
       " 'query': {'random': [{'id': 43988199, 'ns': 0, 'title': 'Matti Hoikka'}]}}"
      ]
     },
     "execution_count": 13,
     "metadata": {},
     "output_type": "execute_result"
    }
   ],
   "source": [
    "data"
   ]
  },
  {
   "cell_type": "code",
   "execution_count": 14,
   "metadata": {},
   "outputs": [
    {
     "data": {
      "text/plain": [
       "'Matti Hoikka'"
      ]
     },
     "execution_count": 14,
     "metadata": {},
     "output_type": "execute_result"
    }
   ],
   "source": [
    "# Title of the random page\n",
    "random_page_title = data[\"query\"][\"random\"][0][\"title\"]\n",
    "random_page_title"
   ]
  },
  {
   "cell_type": "markdown",
   "metadata": {},
   "source": [
    "#### Bot to check for revisions on that random (or more likely later on specific) wikipedia page. Could be run on a server 24/7"
   ]
  },
  {
   "cell_type": "code",
   "execution_count": null,
   "metadata": {},
   "outputs": [
    {
     "name": "stderr",
     "output_type": "stream",
     "text": [
      "C:\\Users\\a\\AppData\\Local\\Temp\\ipykernel_8352\\3566270102.py:33: FutureWarning: The frame.append method is deprecated and will be removed from pandas in a future version. Use pandas.concat instead.\n",
      "  revisions_df = revisions_df.append(\n"
     ]
    },
    {
     "name": "stdout",
     "output_type": "stream",
     "text": [
      "New revision at 2021-02-01 11:07:54\n"
     ]
    }
   ],
   "source": [
    "# Dataframe to store the revisions of the random page\n",
    "revisions_df = pd.DataFrame(columns=[\"timestamp\", \"user\", \"size\", \"diff_url\"])\n",
    "\n",
    "while True:\n",
    "    # Get the current revision of the page\n",
    "    params = {\n",
    "        \"action\": \"query\",\n",
    "        \"format\": \"json\",\n",
    "        \"prop\": \"revisions\",\n",
    "        \"titles\": random_page_title,\n",
    "        \"rvprop\": \"timestamp|user|size\",\n",
    "        \"rvlimit\": 1,\n",
    "    }\n",
    "\n",
    "    # Send the API request\n",
    "    response = requests.get(url, params=params)\n",
    "    data = response.json()\n",
    "    page = list(data[\"query\"][\"pages\"].values())[0]\n",
    "\n",
    "    # Extract the revision data\n",
    "    timestamp = page[\"revisions\"][0][\"timestamp\"]\n",
    "    timestamp = datetime.strptime(timestamp, \"%Y-%m-%dT%H:%M:%SZ\")\n",
    "    user = page[\"revisions\"][0][\"user\"]\n",
    "    size = page[\"revisions\"][0][\"size\"]\n",
    "\n",
    "    # Compare the current revision to the last known revision\n",
    "    if not revisions_df.empty and revisions_df.iloc[-1][\"timestamp\"] == timestamp:\n",
    "        # No new revisions\n",
    "        print(f'No new revisions since {timestamp}')\n",
    "    else:\n",
    "        # New revision\n",
    "        diff_url = f\"https://en.wikipedia.org/w/index.php?title={random_page_title}&diff=prev&oldid={page['revisions']}\"\n",
    "        revisions_df = revisions_df.append(\n",
    "            {\"timestamp\": timestamp, \"user\": user, \"size\": size, \"diff_url\": diff_url}, ignore_index=True\n",
    "        )\n",
    "        print(f'New revision at {timestamp}')\n",
    "    time.sleep(6000) # check within a time intervall"
   ]
  },
  {
   "cell_type": "markdown",
   "metadata": {},
   "source": [
    "#### Better interrupt the Kernel after this, otherwise it will run without stopping hehe"
   ]
  },
  {
   "cell_type": "code",
   "execution_count": null,
   "metadata": {},
   "outputs": [],
   "source": []
  },
  {
   "cell_type": "code",
   "execution_count": null,
   "metadata": {},
   "outputs": [],
   "source": []
  },
  {
   "cell_type": "code",
   "execution_count": null,
   "metadata": {},
   "outputs": [],
   "source": []
  },
  {
   "cell_type": "code",
   "execution_count": null,
   "metadata": {},
   "outputs": [],
   "source": []
  },
  {
   "cell_type": "code",
   "execution_count": null,
   "metadata": {},
   "outputs": [],
   "source": []
  },
  {
   "cell_type": "code",
   "execution_count": null,
   "metadata": {},
   "outputs": [],
   "source": []
  },
  {
   "cell_type": "code",
   "execution_count": null,
   "metadata": {},
   "outputs": [],
   "source": []
  },
  {
   "cell_type": "code",
   "execution_count": null,
   "metadata": {},
   "outputs": [],
   "source": []
  },
  {
   "cell_type": "code",
   "execution_count": null,
   "metadata": {},
   "outputs": [],
   "source": []
  },
  {
   "cell_type": "code",
   "execution_count": null,
   "metadata": {},
   "outputs": [],
   "source": []
  },
  {
   "cell_type": "code",
   "execution_count": null,
   "metadata": {},
   "outputs": [],
   "source": []
  },
  {
   "cell_type": "code",
   "execution_count": null,
   "metadata": {},
   "outputs": [],
   "source": []
  },
  {
   "cell_type": "code",
   "execution_count": null,
   "metadata": {},
   "outputs": [],
   "source": []
  },
  {
   "cell_type": "code",
   "execution_count": null,
   "metadata": {},
   "outputs": [],
   "source": []
  },
  {
   "cell_type": "code",
   "execution_count": null,
   "metadata": {},
   "outputs": [],
   "source": []
  },
  {
   "cell_type": "code",
   "execution_count": null,
   "metadata": {},
   "outputs": [],
   "source": []
  },
  {
   "cell_type": "code",
   "execution_count": null,
   "metadata": {},
   "outputs": [],
   "source": []
  },
  {
   "cell_type": "code",
   "execution_count": null,
   "metadata": {},
   "outputs": [],
   "source": []
  },
  {
   "cell_type": "code",
   "execution_count": null,
   "metadata": {},
   "outputs": [],
   "source": []
  },
  {
   "cell_type": "code",
   "execution_count": null,
   "metadata": {},
   "outputs": [],
   "source": []
  },
  {
   "cell_type": "code",
   "execution_count": null,
   "metadata": {},
   "outputs": [],
   "source": []
  },
  {
   "cell_type": "code",
   "execution_count": null,
   "metadata": {},
   "outputs": [],
   "source": []
  },
  {
   "cell_type": "code",
   "execution_count": null,
   "metadata": {},
   "outputs": [],
   "source": []
  },
  {
   "cell_type": "code",
   "execution_count": null,
   "metadata": {},
   "outputs": [],
   "source": []
  },
  {
   "cell_type": "code",
   "execution_count": null,
   "metadata": {},
   "outputs": [],
   "source": []
  },
  {
   "cell_type": "code",
   "execution_count": null,
   "metadata": {},
   "outputs": [],
   "source": []
  },
  {
   "cell_type": "code",
   "execution_count": null,
   "metadata": {},
   "outputs": [],
   "source": []
  },
  {
   "cell_type": "code",
   "execution_count": null,
   "metadata": {},
   "outputs": [],
   "source": []
  },
  {
   "cell_type": "code",
   "execution_count": null,
   "metadata": {},
   "outputs": [],
   "source": []
  },
  {
   "cell_type": "code",
   "execution_count": null,
   "metadata": {},
   "outputs": [],
   "source": []
  },
  {
   "cell_type": "code",
   "execution_count": null,
   "metadata": {},
   "outputs": [],
   "source": []
  },
  {
   "cell_type": "code",
   "execution_count": null,
   "metadata": {},
   "outputs": [],
   "source": []
  },
  {
   "cell_type": "code",
   "execution_count": null,
   "metadata": {},
   "outputs": [],
   "source": []
  }
 ],
 "metadata": {
  "kernelspec": {
   "display_name": "Python 3 (ipykernel)",
   "language": "python",
   "name": "python3"
  },
  "language_info": {
   "codemirror_mode": {
    "name": "ipython",
    "version": 3
   },
   "file_extension": ".py",
   "mimetype": "text/x-python",
   "name": "python",
   "nbconvert_exporter": "python",
   "pygments_lexer": "ipython3",
   "version": "3.9.12"
  }
 },
 "nbformat": 4,
 "nbformat_minor": 4
}
